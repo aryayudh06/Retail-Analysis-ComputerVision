{
 "cells": [
  {
   "cell_type": "code",
   "execution_count": 2,
   "id": "364c8dcf",
   "metadata": {},
   "outputs": [],
   "source": [
    "import pandas as pd\n",
    "import numpy as np"
   ]
  },
  {
   "cell_type": "code",
   "execution_count": 10,
   "id": "40683b6a",
   "metadata": {},
   "outputs": [],
   "source": [
    "data = pd.read_csv(\"Reports/sales/sales.csv\")"
   ]
  },
  {
   "cell_type": "code",
   "execution_count": 4,
   "id": "33f41acd",
   "metadata": {},
   "outputs": [
    {
     "data": {
      "text/html": [
       "<div>\n",
       "<style scoped>\n",
       "    .dataframe tbody tr th:only-of-type {\n",
       "        vertical-align: middle;\n",
       "    }\n",
       "\n",
       "    .dataframe tbody tr th {\n",
       "        vertical-align: top;\n",
       "    }\n",
       "\n",
       "    .dataframe thead th {\n",
       "        text-align: right;\n",
       "    }\n",
       "</style>\n",
       "<table border=\"1\" class=\"dataframe\">\n",
       "  <thead>\n",
       "    <tr style=\"text-align: right;\">\n",
       "      <th></th>\n",
       "      <th>Branch</th>\n",
       "      <th>Category</th>\n",
       "      <th>Sub_Category</th>\n",
       "      <th>Product</th>\n",
       "      <th>Price</th>\n",
       "      <th>Cost_Price</th>\n",
       "      <th>Payment_Type</th>\n",
       "      <th>Order_Date</th>\n",
       "    </tr>\n",
       "  </thead>\n",
       "  <tbody>\n",
       "    <tr>\n",
       "      <th>0</th>\n",
       "      <td>Austin-Texas</td>\n",
       "      <td>Arts &amp; Crafts</td>\n",
       "      <td>Crafting</td>\n",
       "      <td>Command Large Picture Hanging Strips, White, H...</td>\n",
       "      <td>13.27</td>\n",
       "      <td>11.539999</td>\n",
       "      <td>Cash</td>\n",
       "      <td>2021-08-31</td>\n",
       "    </tr>\n",
       "    <tr>\n",
       "      <th>1</th>\n",
       "      <td>Austin-Texas</td>\n",
       "      <td>Arts &amp; Crafts</td>\n",
       "      <td>Crafting</td>\n",
       "      <td>Scissors, iBayam 8\" Multipurpose Scissors Bulk...</td>\n",
       "      <td>6.79</td>\n",
       "      <td>6.187303</td>\n",
       "      <td>Cash</td>\n",
       "      <td>2021-06-24</td>\n",
       "    </tr>\n",
       "    <tr>\n",
       "      <th>2</th>\n",
       "      <td>Austin-Texas</td>\n",
       "      <td>Arts &amp; Crafts</td>\n",
       "      <td>Crafting</td>\n",
       "      <td>Luna Bean Keepsake Hands Casting Kit | DIY Pla...</td>\n",
       "      <td>34.99</td>\n",
       "      <td>32.931599</td>\n",
       "      <td>Cash</td>\n",
       "      <td>2021-02-24</td>\n",
       "    </tr>\n",
       "    <tr>\n",
       "      <th>3</th>\n",
       "      <td>Austin-Texas</td>\n",
       "      <td>Arts &amp; Crafts</td>\n",
       "      <td>Crafting</td>\n",
       "      <td>Amazon Basics Clear Thermal Laminating Plastic...</td>\n",
       "      <td>16.16</td>\n",
       "      <td>14.634799</td>\n",
       "      <td>ATM card</td>\n",
       "      <td>2021-01-03</td>\n",
       "    </tr>\n",
       "    <tr>\n",
       "      <th>4</th>\n",
       "      <td>San Francisco-Carlifornia</td>\n",
       "      <td>Arts &amp; Crafts</td>\n",
       "      <td>Crafting</td>\n",
       "      <td>Scotch Thermal Laminating Pouches, 100-Pack, 8...</td>\n",
       "      <td>15.18</td>\n",
       "      <td>13.025127</td>\n",
       "      <td>Cash</td>\n",
       "      <td>2021-03-01</td>\n",
       "    </tr>\n",
       "  </tbody>\n",
       "</table>\n",
       "</div>"
      ],
      "text/plain": [
       "                      Branch       Category Sub_Category  \\\n",
       "0               Austin-Texas  Arts & Crafts     Crafting   \n",
       "1               Austin-Texas  Arts & Crafts     Crafting   \n",
       "2               Austin-Texas  Arts & Crafts     Crafting   \n",
       "3               Austin-Texas  Arts & Crafts     Crafting   \n",
       "4  San Francisco-Carlifornia  Arts & Crafts     Crafting   \n",
       "\n",
       "                                             Product  Price  Cost_Price  \\\n",
       "0  Command Large Picture Hanging Strips, White, H...  13.27   11.539999   \n",
       "1  Scissors, iBayam 8\" Multipurpose Scissors Bulk...   6.79    6.187303   \n",
       "2  Luna Bean Keepsake Hands Casting Kit | DIY Pla...  34.99   32.931599   \n",
       "3  Amazon Basics Clear Thermal Laminating Plastic...  16.16   14.634799   \n",
       "4  Scotch Thermal Laminating Pouches, 100-Pack, 8...  15.18   13.025127   \n",
       "\n",
       "  Payment_Type  Order_Date  \n",
       "0         Cash  2021-08-31  \n",
       "1         Cash  2021-06-24  \n",
       "2         Cash  2021-02-24  \n",
       "3     ATM card  2021-01-03  \n",
       "4         Cash  2021-03-01  "
      ]
     },
     "execution_count": 4,
     "metadata": {},
     "output_type": "execute_result"
    }
   ],
   "source": [
    "data.head()"
   ]
  },
  {
   "cell_type": "code",
   "execution_count": 5,
   "id": "980a2c57",
   "metadata": {},
   "outputs": [
    {
     "data": {
      "text/plain": [
       "123"
      ]
     },
     "execution_count": 5,
     "metadata": {},
     "output_type": "execute_result"
    }
   ],
   "source": [
    "data['Sub_Category'].nunique()"
   ]
  },
  {
   "cell_type": "code",
   "execution_count": 6,
   "id": "115bc09b",
   "metadata": {},
   "outputs": [
    {
     "data": {
      "text/plain": [
       "14"
      ]
     },
     "execution_count": 6,
     "metadata": {},
     "output_type": "execute_result"
    }
   ],
   "source": [
    "data['Category'].nunique()"
   ]
  },
  {
   "cell_type": "code",
   "execution_count": 11,
   "id": "e4d833e7",
   "metadata": {},
   "outputs": [],
   "source": [
    "data.drop(columns=['Sub_Category', 'Payment_Type', 'Branch'], inplace=True)"
   ]
  },
  {
   "cell_type": "code",
   "execution_count": 12,
   "id": "cbdfc4ec",
   "metadata": {},
   "outputs": [
    {
     "data": {
      "text/html": [
       "<div>\n",
       "<style scoped>\n",
       "    .dataframe tbody tr th:only-of-type {\n",
       "        vertical-align: middle;\n",
       "    }\n",
       "\n",
       "    .dataframe tbody tr th {\n",
       "        vertical-align: top;\n",
       "    }\n",
       "\n",
       "    .dataframe thead th {\n",
       "        text-align: right;\n",
       "    }\n",
       "</style>\n",
       "<table border=\"1\" class=\"dataframe\">\n",
       "  <thead>\n",
       "    <tr style=\"text-align: right;\">\n",
       "      <th></th>\n",
       "      <th>Category</th>\n",
       "      <th>Product</th>\n",
       "      <th>Price</th>\n",
       "      <th>Cost_Price</th>\n",
       "      <th>Order_Date</th>\n",
       "    </tr>\n",
       "  </thead>\n",
       "  <tbody>\n",
       "    <tr>\n",
       "      <th>0</th>\n",
       "      <td>Arts &amp; Crafts</td>\n",
       "      <td>Command Large Picture Hanging Strips, White, H...</td>\n",
       "      <td>13.27</td>\n",
       "      <td>11.539999</td>\n",
       "      <td>2021-08-31</td>\n",
       "    </tr>\n",
       "    <tr>\n",
       "      <th>1</th>\n",
       "      <td>Arts &amp; Crafts</td>\n",
       "      <td>Scissors, iBayam 8\" Multipurpose Scissors Bulk...</td>\n",
       "      <td>6.79</td>\n",
       "      <td>6.187303</td>\n",
       "      <td>2021-06-24</td>\n",
       "    </tr>\n",
       "    <tr>\n",
       "      <th>2</th>\n",
       "      <td>Arts &amp; Crafts</td>\n",
       "      <td>Luna Bean Keepsake Hands Casting Kit | DIY Pla...</td>\n",
       "      <td>34.99</td>\n",
       "      <td>32.931599</td>\n",
       "      <td>2021-02-24</td>\n",
       "    </tr>\n",
       "    <tr>\n",
       "      <th>3</th>\n",
       "      <td>Arts &amp; Crafts</td>\n",
       "      <td>Amazon Basics Clear Thermal Laminating Plastic...</td>\n",
       "      <td>16.16</td>\n",
       "      <td>14.634799</td>\n",
       "      <td>2021-01-03</td>\n",
       "    </tr>\n",
       "    <tr>\n",
       "      <th>4</th>\n",
       "      <td>Arts &amp; Crafts</td>\n",
       "      <td>Scotch Thermal Laminating Pouches, 100-Pack, 8...</td>\n",
       "      <td>15.18</td>\n",
       "      <td>13.025127</td>\n",
       "      <td>2021-03-01</td>\n",
       "    </tr>\n",
       "  </tbody>\n",
       "</table>\n",
       "</div>"
      ],
      "text/plain": [
       "        Category                                            Product  Price  \\\n",
       "0  Arts & Crafts  Command Large Picture Hanging Strips, White, H...  13.27   \n",
       "1  Arts & Crafts  Scissors, iBayam 8\" Multipurpose Scissors Bulk...   6.79   \n",
       "2  Arts & Crafts  Luna Bean Keepsake Hands Casting Kit | DIY Pla...  34.99   \n",
       "3  Arts & Crafts  Amazon Basics Clear Thermal Laminating Plastic...  16.16   \n",
       "4  Arts & Crafts  Scotch Thermal Laminating Pouches, 100-Pack, 8...  15.18   \n",
       "\n",
       "   Cost_Price  Order_Date  \n",
       "0   11.539999  2021-08-31  \n",
       "1    6.187303  2021-06-24  \n",
       "2   32.931599  2021-02-24  \n",
       "3   14.634799  2021-01-03  \n",
       "4   13.025127  2021-03-01  "
      ]
     },
     "execution_count": 12,
     "metadata": {},
     "output_type": "execute_result"
    }
   ],
   "source": [
    "data.head()"
   ]
  },
  {
   "cell_type": "code",
   "execution_count": 13,
   "id": "ea357150",
   "metadata": {},
   "outputs": [
    {
     "data": {
      "text/plain": [
       "array(['Arts & Crafts', 'Automotive', 'Baby', 'Beauty & Personal Care',\n",
       "       'Computers', 'Electronics', \"Women's Fashion\", \"Men's Fashion\",\n",
       "       \"Girls' Fashion\", \"Boys' Fashion\", 'Health & Household',\n",
       "       'Home & Kitchen', 'Industrial & Scientific', 'Luggage'],\n",
       "      dtype=object)"
      ]
     },
     "execution_count": 13,
     "metadata": {},
     "output_type": "execute_result"
    }
   ],
   "source": [
    "data['Category'].unique()"
   ]
  },
  {
   "cell_type": "code",
   "execution_count": 14,
   "id": "d6c9b131",
   "metadata": {},
   "outputs": [
    {
     "data": {
      "text/plain": [
       "array(['2021-08-31', '2021-06-24', '2021-02-24', '2021-01-03',\n",
       "       '2021-03-01', '2021-05-06', '2021-10-08', '2021-12-13',\n",
       "       '2021-03-14', '2021-12-20', '2021-05-21', '2021-02-05',\n",
       "       '2021-10-10', '2021-07-16', '2021-01-23', '2021-04-15',\n",
       "       '2021-01-06', '2021-07-13', '2021-03-11', '2021-01-27',\n",
       "       '2021-11-15', '2021-03-07', '2021-12-26', '2021-11-09',\n",
       "       '2021-01-25', '2021-05-16', '2021-01-16', '2021-03-18',\n",
       "       '2021-12-03', '2021-05-13', '2021-09-29', '2021-03-22',\n",
       "       '2021-11-25', '2021-10-30', '2021-08-22', '2021-10-09',\n",
       "       '2021-10-24', '2021-03-20', '2021-04-03', '2021-08-03',\n",
       "       '2021-01-19', '2021-10-13', '2021-07-01', '2021-02-14',\n",
       "       '2021-05-12', '2021-01-18', '2021-09-04', '2021-07-28',\n",
       "       '2021-12-23', '2021-06-28', '2021-07-09', '2021-07-24',\n",
       "       '2021-10-07', '2021-05-01', '2021-12-21', '2021-09-24',\n",
       "       '2021-11-29', '2021-04-20', '2021-04-02', '2021-03-30',\n",
       "       '2021-01-13', '2021-10-05', '2021-04-05', '2021-06-22',\n",
       "       '2021-05-11', '2021-02-22', '2021-05-08', '2021-12-25',\n",
       "       '2021-07-23', '2021-07-30', '2021-04-08', '2021-11-24',\n",
       "       '2021-08-19', '2021-02-17', '2021-06-17', '2021-01-10',\n",
       "       '2021-06-25', '2021-10-01', '2021-09-19', '2021-11-04',\n",
       "       '2021-06-01', '2021-11-06', '2021-06-13', '2021-12-14',\n",
       "       '2021-04-21', '2021-07-12', '2021-03-29', '2021-12-22',\n",
       "       '2021-06-02', '2021-08-23', '2021-03-08', '2021-06-20',\n",
       "       '2021-08-07', '2021-06-06', '2021-11-18', '2021-05-22',\n",
       "       '2021-07-21', '2021-02-10', '2021-11-20', '2021-12-10',\n",
       "       '2021-12-02', '2021-07-20', '2021-02-02', '2021-07-11',\n",
       "       '2021-01-28', '2021-02-26', '2021-02-20', '2021-12-31',\n",
       "       '2021-10-02', '2021-07-05', '2021-06-10', '2021-08-02',\n",
       "       '2021-10-15', '2021-09-10', '2021-09-26', '2021-08-27',\n",
       "       '2021-10-03', '2021-07-02', '2021-08-05', '2021-06-23',\n",
       "       '2021-12-04', '2021-01-15', '2021-12-15', '2021-09-30',\n",
       "       '2021-05-05', '2021-09-09', '2021-07-19', '2021-08-11',\n",
       "       '2021-07-29', '2021-06-21', '2021-12-27', '2021-10-19',\n",
       "       '2021-01-04', '2021-09-25', '2021-05-15', '2021-02-03',\n",
       "       '2021-07-06', '2021-02-09', '2021-11-28', '2021-09-28',\n",
       "       '2021-02-23', '2021-04-14', '2021-08-04', '2021-09-02',\n",
       "       '2021-09-20', '2021-02-04', '2021-09-18', '2021-08-29',\n",
       "       '2021-12-12', '2021-11-07', '2021-04-30', '2021-03-13',\n",
       "       '2021-01-22', '2021-01-29', '2021-05-24', '2021-10-25',\n",
       "       '2021-09-13', '2021-05-09', '2021-02-21', '2021-06-16',\n",
       "       '2021-06-05', '2021-07-26', '2021-07-22', '2021-02-28',\n",
       "       '2021-04-19', '2021-08-20', '2021-06-15', '2021-11-30',\n",
       "       '2021-11-03', '2021-12-06', '2021-07-27', '2021-01-17',\n",
       "       '2021-02-25', '2021-07-03', '2021-10-04', '2021-03-17',\n",
       "       '2021-12-08', '2021-09-27', '2021-02-06', '2021-03-12',\n",
       "       '2021-12-30', '2021-10-21', '2021-05-23', '2021-01-24',\n",
       "       '2021-08-15', '2021-04-23', '2021-06-08', '2021-11-13',\n",
       "       '2021-08-25', '2021-12-09', '2021-01-31', '2021-06-18',\n",
       "       '2021-01-21', '2021-05-20', '2021-10-29', '2021-09-17',\n",
       "       '2021-04-29', '2021-12-17', '2021-10-26', '2021-02-16',\n",
       "       '2021-12-01', '2021-09-15', '2021-02-15', '2021-05-30',\n",
       "       '2021-07-14', '2021-09-03', '2021-11-16', '2021-03-06',\n",
       "       '2021-04-27', '2021-10-22', '2021-03-23', '2021-07-18',\n",
       "       '2021-04-11', '2021-03-15', '2021-08-09', '2021-03-02',\n",
       "       '2021-10-20', '2021-11-26', '2021-01-20', '2021-10-18',\n",
       "       '2021-10-06', '2021-10-14', '2021-09-22', '2021-11-23',\n",
       "       '2021-03-19', '2021-06-12', '2021-05-14', '2021-08-26',\n",
       "       '2021-10-23', '2021-03-25', '2021-07-04', '2021-04-18',\n",
       "       '2021-04-28', '2021-04-26', '2021-11-27', '2021-09-12',\n",
       "       '2021-08-21', '2021-10-27', '2021-04-10', '2021-04-24',\n",
       "       '2021-08-01', '2021-04-01', '2021-05-19', '2021-03-24',\n",
       "       '2021-12-28', '2021-08-24', '2021-05-10', '2021-05-04',\n",
       "       '2021-06-27', '2021-04-04', '2021-08-30', '2021-04-13',\n",
       "       '2021-06-03', '2021-03-26', '2021-09-05', '2021-06-19',\n",
       "       '2021-09-01', '2021-01-12', '2021-11-08', '2021-12-19',\n",
       "       '2021-08-08', '2021-05-27', '2021-07-10', '2021-06-30',\n",
       "       '2021-04-16', '2021-04-12', '2021-10-31', '2021-04-06',\n",
       "       '2021-03-09', '2021-01-08', '2021-03-05', '2021-06-09',\n",
       "       '2021-01-02', '2021-03-03', '2021-01-09', '2021-12-18',\n",
       "       '2021-02-12', '2021-05-18', '2021-02-13', '2021-07-25',\n",
       "       '2021-04-25', '2021-10-11', '2021-08-28', '2021-06-04',\n",
       "       '2021-09-06', '2021-11-05', '2021-02-19', '2021-11-11',\n",
       "       '2021-08-12', '2021-05-28', '2021-05-31', '2021-11-21',\n",
       "       '2021-10-16', '2021-01-05', '2021-04-09', '2021-08-18',\n",
       "       '2021-08-13', '2021-08-17', '2021-04-22', '2021-01-11',\n",
       "       '2021-09-08', '2021-01-30', '2021-03-28', '2021-08-06',\n",
       "       '2021-02-18', '2021-02-01', '2021-06-14', '2021-04-17',\n",
       "       '2021-03-31', '2021-12-07', '2021-08-14', '2021-12-16',\n",
       "       '2021-03-16', '2021-03-27', '2021-12-24', '2021-01-01',\n",
       "       '2021-03-04', '2021-08-10', '2021-08-16', '2021-10-12',\n",
       "       '2021-09-16', '2021-03-10', '2021-11-02', '2021-11-22',\n",
       "       '2021-01-26', '2021-02-07', '2021-06-07', '2021-07-31',\n",
       "       '2021-06-11', '2021-01-07', '2021-10-28', '2021-11-19',\n",
       "       '2021-11-14', '2021-05-26', '2021-11-10', '2021-11-17',\n",
       "       '2021-09-23', '2021-09-21', '2021-06-26', '2021-02-11',\n",
       "       '2021-05-17', '2021-03-21', '2021-12-11', '2021-11-12',\n",
       "       '2021-01-14', '2021-07-17', '2021-05-07', '2021-11-01',\n",
       "       '2021-10-17', '2021-02-08', '2021-12-05', '2021-05-29',\n",
       "       '2021-04-07', '2021-05-02', '2021-05-25', '2021-05-03',\n",
       "       '2021-09-14', '2021-09-07', '2021-12-29', '2021-07-15',\n",
       "       '2021-06-29', '2021-07-07', '2021-09-11', '2021-07-08',\n",
       "       '2021-02-27'], dtype=object)"
      ]
     },
     "execution_count": 14,
     "metadata": {},
     "output_type": "execute_result"
    }
   ],
   "source": [
    "data['Order_Date'].unique()"
   ]
  },
  {
   "cell_type": "code",
   "execution_count": null,
   "id": "b9260464",
   "metadata": {},
   "outputs": [],
   "source": []
  }
 ],
 "metadata": {
  "kernelspec": {
   "display_name": "Python 3",
   "language": "python",
   "name": "python3"
  },
  "language_info": {
   "codemirror_mode": {
    "name": "ipython",
    "version": 3
   },
   "file_extension": ".py",
   "mimetype": "text/x-python",
   "name": "python",
   "nbconvert_exporter": "python",
   "pygments_lexer": "ipython3",
   "version": "3.12.5"
  }
 },
 "nbformat": 4,
 "nbformat_minor": 5
}
