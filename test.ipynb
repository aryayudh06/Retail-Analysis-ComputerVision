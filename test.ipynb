{
 "cells": [
  {
   "cell_type": "code",
   "execution_count": 2,
   "id": "364c8dcf",
   "metadata": {},
   "outputs": [],
   "source": [
    "import pandas as pd\n",
    "import numpy as np"
   ]
  },
  {
   "cell_type": "code",
   "execution_count": 10,
   "id": "40683b6a",
   "metadata": {},
   "outputs": [],
   "source": [
    "data = pd.read_csv(\"Reports/sales/sales.csv\")"
   ]
  },
  {
   "cell_type": "code",
   "execution_count": 4,
   "id": "33f41acd",
   "metadata": {},
   "outputs": [
    {
     "data": {
      "text/html": [
       "<div>\n",
       "<style scoped>\n",
       "    .dataframe tbody tr th:only-of-type {\n",
       "        vertical-align: middle;\n",
       "    }\n",
       "\n",
       "    .dataframe tbody tr th {\n",
       "        vertical-align: top;\n",
       "    }\n",
       "\n",
       "    .dataframe thead th {\n",
       "        text-align: right;\n",
       "    }\n",
       "</style>\n",
       "<table border=\"1\" class=\"dataframe\">\n",
       "  <thead>\n",
       "    <tr style=\"text-align: right;\">\n",
       "      <th></th>\n",
       "      <th>Branch</th>\n",
       "      <th>Category</th>\n",
       "      <th>Sub_Category</th>\n",
       "      <th>Product</th>\n",
       "      <th>Price</th>\n",
       "      <th>Cost_Price</th>\n",
       "      <th>Payment_Type</th>\n",
       "      <th>Order_Date</th>\n",
       "    </tr>\n",
       "  </thead>\n",
       "  <tbody>\n",
       "    <tr>\n",
       "      <th>0</th>\n",
       "      <td>Austin-Texas</td>\n",
       "      <td>Arts &amp; Crafts</td>\n",
       "      <td>Crafting</td>\n",
       "      <td>Command Large Picture Hanging Strips, White, H...</td>\n",
       "      <td>13.27</td>\n",
       "      <td>11.539999</td>\n",
       "      <td>Cash</td>\n",
       "      <td>2021-08-31</td>\n",
       "    </tr>\n",
       "    <tr>\n",
       "      <th>1</th>\n",
       "      <td>Austin-Texas</td>\n",
       "      <td>Arts &amp; Crafts</td>\n",
       "      <td>Crafting</td>\n",
       "      <td>Scissors, iBayam 8\" Multipurpose Scissors Bulk...</td>\n",
       "      <td>6.79</td>\n",
       "      <td>6.187303</td>\n",
       "      <td>Cash</td>\n",
       "      <td>2021-06-24</td>\n",
       "    </tr>\n",
       "    <tr>\n",
       "      <th>2</th>\n",
       "      <td>Austin-Texas</td>\n",
       "      <td>Arts &amp; Crafts</td>\n",
       "      <td>Crafting</td>\n",
       "      <td>Luna Bean Keepsake Hands Casting Kit | DIY Pla...</td>\n",
       "      <td>34.99</td>\n",
       "      <td>32.931599</td>\n",
       "      <td>Cash</td>\n",
       "      <td>2021-02-24</td>\n",
       "    </tr>\n",
       "    <tr>\n",
       "      <th>3</th>\n",
       "      <td>Austin-Texas</td>\n",
       "      <td>Arts &amp; Crafts</td>\n",
       "      <td>Crafting</td>\n",
       "      <td>Amazon Basics Clear Thermal Laminating Plastic...</td>\n",
       "      <td>16.16</td>\n",
       "      <td>14.634799</td>\n",
       "      <td>ATM card</td>\n",
       "      <td>2021-01-03</td>\n",
       "    </tr>\n",
       "    <tr>\n",
       "      <th>4</th>\n",
       "      <td>San Francisco-Carlifornia</td>\n",
       "      <td>Arts &amp; Crafts</td>\n",
       "      <td>Crafting</td>\n",
       "      <td>Scotch Thermal Laminating Pouches, 100-Pack, 8...</td>\n",
       "      <td>15.18</td>\n",
       "      <td>13.025127</td>\n",
       "      <td>Cash</td>\n",
       "      <td>2021-03-01</td>\n",
       "    </tr>\n",
       "  </tbody>\n",
       "</table>\n",
       "</div>"
      ],
      "text/plain": [
       "                      Branch       Category Sub_Category  \\\n",
       "0               Austin-Texas  Arts & Crafts     Crafting   \n",
       "1               Austin-Texas  Arts & Crafts     Crafting   \n",
       "2               Austin-Texas  Arts & Crafts     Crafting   \n",
       "3               Austin-Texas  Arts & Crafts     Crafting   \n",
       "4  San Francisco-Carlifornia  Arts & Crafts     Crafting   \n",
       "\n",
       "                                             Product  Price  Cost_Price  \\\n",
       "0  Command Large Picture Hanging Strips, White, H...  13.27   11.539999   \n",
       "1  Scissors, iBayam 8\" Multipurpose Scissors Bulk...   6.79    6.187303   \n",
       "2  Luna Bean Keepsake Hands Casting Kit | DIY Pla...  34.99   32.931599   \n",
       "3  Amazon Basics Clear Thermal Laminating Plastic...  16.16   14.634799   \n",
       "4  Scotch Thermal Laminating Pouches, 100-Pack, 8...  15.18   13.025127   \n",
       "\n",
       "  Payment_Type  Order_Date  \n",
       "0         Cash  2021-08-31  \n",
       "1         Cash  2021-06-24  \n",
       "2         Cash  2021-02-24  \n",
       "3     ATM card  2021-01-03  \n",
       "4         Cash  2021-03-01  "
      ]
     },
     "execution_count": 4,
     "metadata": {},
     "output_type": "execute_result"
    }
   ],
   "source": [
    "data.head()"
   ]
  },
  {
   "cell_type": "code",
   "execution_count": 5,
   "id": "980a2c57",
   "metadata": {},
   "outputs": [
    {
     "data": {
      "text/plain": [
       "123"
      ]
     },
     "execution_count": 5,
     "metadata": {},
     "output_type": "execute_result"
    }
   ],
   "source": [
    "data['Sub_Category'].nunique()"
   ]
  },
  {
   "cell_type": "code",
   "execution_count": 6,
   "id": "115bc09b",
   "metadata": {},
   "outputs": [
    {
     "data": {
      "text/plain": [
       "14"
      ]
     },
     "execution_count": 6,
     "metadata": {},
     "output_type": "execute_result"
    }
   ],
   "source": [
    "data['Category'].nunique()"
   ]
  },
  {
   "cell_type": "code",
   "execution_count": 11,
   "id": "e4d833e7",
   "metadata": {},
   "outputs": [],
   "source": [
    "data.drop(columns=['Sub_Category', 'Payment_Type', 'Branch'], inplace=True)"
   ]
  },
  {
   "cell_type": "code",
   "execution_count": 12,
   "id": "cbdfc4ec",
   "metadata": {},
   "outputs": [
    {
     "data": {
      "text/html": [
       "<div>\n",
       "<style scoped>\n",
       "    .dataframe tbody tr th:only-of-type {\n",
       "        vertical-align: middle;\n",
       "    }\n",
       "\n",
       "    .dataframe tbody tr th {\n",
       "        vertical-align: top;\n",
       "    }\n",
       "\n",
       "    .dataframe thead th {\n",
       "        text-align: right;\n",
       "    }\n",
       "</style>\n",
       "<table border=\"1\" class=\"dataframe\">\n",
       "  <thead>\n",
       "    <tr style=\"text-align: right;\">\n",
       "      <th></th>\n",
       "      <th>Category</th>\n",
       "      <th>Product</th>\n",
       "      <th>Price</th>\n",
       "      <th>Cost_Price</th>\n",
       "      <th>Order_Date</th>\n",
       "    </tr>\n",
       "  </thead>\n",
       "  <tbody>\n",
       "    <tr>\n",
       "      <th>0</th>\n",
       "      <td>Arts &amp; Crafts</td>\n",
       "      <td>Command Large Picture Hanging Strips, White, H...</td>\n",
       "      <td>13.27</td>\n",
       "      <td>11.539999</td>\n",
       "      <td>2021-08-31</td>\n",
       "    </tr>\n",
       "    <tr>\n",
       "      <th>1</th>\n",
       "      <td>Arts &amp; Crafts</td>\n",
       "      <td>Scissors, iBayam 8\" Multipurpose Scissors Bulk...</td>\n",
       "      <td>6.79</td>\n",
       "      <td>6.187303</td>\n",
       "      <td>2021-06-24</td>\n",
       "    </tr>\n",
       "    <tr>\n",
       "      <th>2</th>\n",
       "      <td>Arts &amp; Crafts</td>\n",
       "      <td>Luna Bean Keepsake Hands Casting Kit | DIY Pla...</td>\n",
       "      <td>34.99</td>\n",
       "      <td>32.931599</td>\n",
       "      <td>2021-02-24</td>\n",
       "    </tr>\n",
       "    <tr>\n",
       "      <th>3</th>\n",
       "      <td>Arts &amp; Crafts</td>\n",
       "      <td>Amazon Basics Clear Thermal Laminating Plastic...</td>\n",
       "      <td>16.16</td>\n",
       "      <td>14.634799</td>\n",
       "      <td>2021-01-03</td>\n",
       "    </tr>\n",
       "    <tr>\n",
       "      <th>4</th>\n",
       "      <td>Arts &amp; Crafts</td>\n",
       "      <td>Scotch Thermal Laminating Pouches, 100-Pack, 8...</td>\n",
       "      <td>15.18</td>\n",
       "      <td>13.025127</td>\n",
       "      <td>2021-03-01</td>\n",
       "    </tr>\n",
       "  </tbody>\n",
       "</table>\n",
       "</div>"
      ],
      "text/plain": [
       "        Category                                            Product  Price  \\\n",
       "0  Arts & Crafts  Command Large Picture Hanging Strips, White, H...  13.27   \n",
       "1  Arts & Crafts  Scissors, iBayam 8\" Multipurpose Scissors Bulk...   6.79   \n",
       "2  Arts & Crafts  Luna Bean Keepsake Hands Casting Kit | DIY Pla...  34.99   \n",
       "3  Arts & Crafts  Amazon Basics Clear Thermal Laminating Plastic...  16.16   \n",
       "4  Arts & Crafts  Scotch Thermal Laminating Pouches, 100-Pack, 8...  15.18   \n",
       "\n",
       "   Cost_Price  Order_Date  \n",
       "0   11.539999  2021-08-31  \n",
       "1    6.187303  2021-06-24  \n",
       "2   32.931599  2021-02-24  \n",
       "3   14.634799  2021-01-03  \n",
       "4   13.025127  2021-03-01  "
      ]
     },
     "execution_count": 12,
     "metadata": {},
     "output_type": "execute_result"
    }
   ],
   "source": [
    "data.head()"
   ]
  },
  {
   "cell_type": "code",
   "execution_count": 13,
   "id": "ea357150",
   "metadata": {},
   "outputs": [
    {
     "data": {
      "text/plain": [
       "array(['Arts & Crafts', 'Automotive', 'Baby', 'Beauty & Personal Care',\n",
       "       'Computers', 'Electronics', \"Women's Fashion\", \"Men's Fashion\",\n",
       "       \"Girls' Fashion\", \"Boys' Fashion\", 'Health & Household',\n",
       "       'Home & Kitchen', 'Industrial & Scientific', 'Luggage'],\n",
       "      dtype=object)"
      ]
     },
     "execution_count": 13,
     "metadata": {},
     "output_type": "execute_result"
    }
   ],
   "source": [
    "data['Category'].unique()"
   ]
  },
  {
   "cell_type": "code",
   "execution_count": null,
   "id": "d6c9b131",
   "metadata": {},
   "outputs": [],
   "source": []
  }
 ],
 "metadata": {
  "kernelspec": {
   "display_name": "Python 3",
   "language": "python",
   "name": "python3"
  },
  "language_info": {
   "codemirror_mode": {
    "name": "ipython",
    "version": 3
   },
   "file_extension": ".py",
   "mimetype": "text/x-python",
   "name": "python",
   "nbconvert_exporter": "python",
   "pygments_lexer": "ipython3",
   "version": "3.12.5"
  }
 },
 "nbformat": 4,
 "nbformat_minor": 5
}
